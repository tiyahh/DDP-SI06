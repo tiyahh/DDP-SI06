{
  "nbformat": 4,
  "nbformat_minor": 0,
  "metadata": {
    "colab": {
      "provenance": [],
      "authorship_tag": "ABX9TyMKKB9SY0N6kCzv/LIb+rE7",
      "include_colab_link": true
    },
    "kernelspec": {
      "name": "python3",
      "display_name": "Python 3"
    },
    "language_info": {
      "name": "python"
    }
  },
  "cells": [
    {
      "cell_type": "markdown",
      "metadata": {
        "id": "view-in-github",
        "colab_type": "text"
      },
      "source": [
        "<a href=\"https://colab.research.google.com/github/tiyahh/DDP-SI06/blob/main/DDP4.ipynb\" target=\"_parent\"><img src=\"https://colab.research.google.com/assets/colab-badge.svg\" alt=\"Open In Colab\"/></a>"
      ]
    },
    {
      "cell_type": "code",
      "execution_count": 1,
      "metadata": {
        "colab": {
          "base_uri": "https://localhost:8080/"
        },
        "id": "vrnKLQnR1o2A",
        "outputId": "acb9362b-a3d8-48aa-da50-70be47211d8a"
      },
      "outputs": [
        {
          "output_type": "stream",
          "name": "stdout",
          "text": [
            "\n",
            "=== NO 1 bilangan ganjil genap ===\n",
            "masukan bilangan bulat:10\n",
            "bilangan ganjil\n",
            "\n",
            "=== NO 2 hasil nilai ===\n",
            "masukan nilai ujian:15\n",
            "anda tidak lulus\n",
            "\n",
            "=== NO 3 cek usia dan status ===\n",
            "masukan usia anda:5\n",
            "anak-anak\n",
            "\n",
            "=== NO 4 status anggota ===\n",
            "masukkan status anggota:silver\n",
            "selamat anda mendapatkan diskon\n",
            "\n",
            "=== NO 5 jumlah pembelian ===\n",
            "masukkan jumlah pembelian:25\n",
            "harga per item 1000, jadi total yang harus dibayar adalah 25000\n"
          ]
        }
      ],
      "source": [
        "\n",
        " print(\"\\n=== NO 1 bilangan ganjil genap ===\")\n",
        "\n",
        "angka = int(input(\"masukan bilangan bulat:\"))\n",
        "\n",
        "if angka % 2 == 0:\n",
        "   print(\"bilangan ganjil\")\n",
        "else :\n",
        "   print(\"bilangan genap\")\n",
        "\n",
        "print(\"\\n=== NO 2 hasil nilai ===\")\n",
        "\n",
        "nilai_ujian = int(input(\"masukan nilai ujian:\"))\n",
        "if nilai_ujian>= 75:\n",
        "   print(\"anda lulus\")\n",
        "else :\n",
        "   print(\"anda tidak lulus\")\n",
        "\n",
        "print(\"\\n=== NO 3 cek usia dan status ===\")\n",
        "\n",
        "usia = int(input(\"masukan usia anda:\"))\n",
        "if usia>= 18:\n",
        "   print(\"dewasa\")\n",
        "else :\n",
        "   print(\"anak-anak\")\n",
        "\n",
        "print(\"\\n=== NO 4 status anggota ===\")\n",
        "\n",
        "statusanggota = input(\"masukkan status anggota:\")\n",
        "if statusanggota == \"gold\" or statusanggota ==\"silver\":\n",
        "   print(\"selamat anda mendapatkan diskon\")\n",
        "elif statusanggota == \"bronze\":\n",
        "   print(\"maaf anda tidak mendapatkan diskon\")\n",
        "\n",
        "else:\n",
        "   print(\"masukan pilihan anda\")\n",
        "\n",
        "print(\"\\n=== NO 5 jumlah pembelian ===\")\n",
        "\n",
        "jumlahpembelian =int(input(\"masukkan jumlah pembelian:\"))\n",
        "hargaitem = 1000\n",
        "hargadiskon = hargaitem * jumlahpembelian * (10/100)\n",
        "hargatotal = hargaitem * jumlahpembelian\n",
        "total = hargatotal - hargadiskon\n",
        "\n",
        "print(f\"anda mendapat diskon 10%, harga per item {hargaitem} jadi yang harus dibayar {total}\") if jumlahpembelian > 100 else print(f\"harga per item {hargaitem}, jadi total yang harus dibayar adalah {hargatotal}\")"
      ]
    }
  ]
}