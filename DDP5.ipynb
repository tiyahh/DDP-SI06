{
  "nbformat": 4,
  "nbformat_minor": 0,
  "metadata": {
    "colab": {
      "provenance": [],
      "authorship_tag": "ABX9TyPIpTLcp4yP841Wv7Uww54n",
      "include_colab_link": true
    },
    "kernelspec": {
      "name": "python3",
      "display_name": "Python 3"
    },
    "language_info": {
      "name": "python"
    }
  },
  "cells": [
    {
      "cell_type": "markdown",
      "metadata": {
        "id": "view-in-github",
        "colab_type": "text"
      },
      "source": [
        "<a href=\"https://colab.research.google.com/github/tiyahh/DDP-SI06/blob/main/DDP5.ipynb\" target=\"_parent\"><img src=\"https://colab.research.google.com/assets/colab-badge.svg\" alt=\"Open In Colab\"/></a>"
      ]
    },
    {
      "cell_type": "code",
      "source": [
        "#match case untuk menghitung luas bangun datar\n",
        "pilih = int(input(\"\"\"selamat datang di aplikasi menghitung\n",
        "1. untuk menghitung luas persegi\n",
        "2. untuk menghitung luas lingkaran\n",
        "3. untuk menghitung luas segitiga\n",
        "masukkan pilihan anda : \\n\"\"\"))\n",
        "\n",
        "match pilih:\n",
        "  case 1 :\n",
        "    print(\"kamu memilih 1 untuk menghitung luas persegi\")\n",
        "    sisi = int(input(\"masukan sisi persegi : \"))\n",
        "    luasPersegi = sisi*sisi\n",
        "    print(\"luas persegi dan isinya \",sisi,\"adalah\",luasPersegi)\n",
        "\n",
        "  case 2 :\n",
        "      print(\"kamu memilih 2 untuk menghitung luas lingkaran\")\n",
        "      jari = int(input(\"masukan jari-jari lingkaran :\"))\n",
        "      luasLingkaran = 3.14*jari*jari\n",
        "      print(\"luas lingkaran yang jari-jarinya : \", jari, \"adalah\", luasLingkaran)\n",
        "\n",
        "  case 3 :\n",
        "      print(\"kamu memilih 3 untuk menghitung luas segitiga\")\n",
        "      alas = int(input(\"masukan alas segitiga: \"))\n",
        "      tinggi = int(input(\"masukan tinggi segitiga: \"))\n",
        "      luasSegitiga = 0.5 * alas * tinggi\n",
        "      print(\"luas segitiga dengan alas \", alas, \"dan tinggi\", tinggi, \"adalah\", luasSegitiga)\n",
        "\n",
        "  case _:\n",
        "      print(\"Anda salah pilih\")"
      ],
      "metadata": {
        "colab": {
          "base_uri": "https://localhost:8080/"
        },
        "id": "pBpPKjRMjmGs",
        "outputId": "6f2d0f78-7123-400d-809e-72d8ef8fc061"
      },
      "execution_count": null,
      "outputs": [
        {
          "output_type": "stream",
          "name": "stdout",
          "text": [
            "selamat datang di aplikasi menghitung\n",
            "1. untuk menghitung luas persegi\n",
            "2. untuk menghitung luas lingkaran\n",
            "3. untuk menghitung luas segitiga\n",
            "masukkan pilihan anda : \n",
            "3\n",
            "kamu memilih 3 untuk menghitung luas segitiga\n",
            "masukan alas segitiga: 21\n",
            "masukan tinggi segitiga: 30\n",
            "luas segitiga dengan alas  21 dan tinggi 30 adalah 315.0\n"
          ]
        }
      ]
    },
    {
      "cell_type": "code",
      "source": [
        "listKendaraan = ['namaKendaraan', 'jenisKendaraan', 'ccKendaraan', 'warnaKendaraan', 'rodaKendaraan']\n",
        "print(listKendaraan)\n",
        "\n",
        "listKendaraan.append ('hargaKendaraan')\n",
        "listKendaraan.append ('tipeKendaraan')\n",
        "print(listKendaraan)\n",
        "\n",
        "listKendaraan.insert (2, 'merekKendaraan')\n",
        "print(listKendaraan)"
      ],
      "metadata": {
        "id": "sITkvy6dwU8F",
        "outputId": "a6b4345c-bbb0-4805-cc44-328a44a65c8e",
        "colab": {
          "base_uri": "https://localhost:8080/"
        }
      },
      "execution_count": null,
      "outputs": [
        {
          "output_type": "stream",
          "name": "stdout",
          "text": [
            "['namaKendaraan', 'jenisKendaraan', 'ccKendaraan', 'warnaKendaraan', 'rodaKendaraan']\n",
            "['namaKendaraan', 'jenisKendaraan', 'ccKendaraan', 'warnaKendaraan', 'rodaKendaraan', 'hargaKendaraan', 'tipeKendaraan']\n",
            "['namaKendaraan', 'jenisKendaraan', 'merekKendaraan', 'ccKendaraan', 'warnaKendaraan', 'rodaKendaraan', 'hargaKendaraan', 'tipeKendaraan']\n"
          ]
        }
      ]
    }
  ]
}