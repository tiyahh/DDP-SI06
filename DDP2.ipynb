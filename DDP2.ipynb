{
  "nbformat": 4,
  "nbformat_minor": 0,
  "metadata": {
    "colab": {
      "provenance": [],
      "authorship_tag": "ABX9TyM+4kI7EUcF/cut6t02aLFg",
      "include_colab_link": true
    },
    "kernelspec": {
      "name": "python3",
      "display_name": "Python 3"
    },
    "language_info": {
      "name": "python"
    }
  },
  "cells": [
    {
      "cell_type": "markdown",
      "metadata": {
        "id": "view-in-github",
        "colab_type": "text"
      },
      "source": [
        "<a href=\"https://colab.research.google.com/github/tiyahh/DDP-SI06/blob/main/DDP2.ipynb\" target=\"_parent\"><img src=\"https://colab.research.google.com/assets/colab-badge.svg\" alt=\"Open In Colab\"/></a>"
      ]
    },
    {
      "cell_type": "code",
      "execution_count": 1,
      "metadata": {
        "colab": {
          "base_uri": "https://localhost:8080/"
        },
        "id": "nh2cSWXmtlfv",
        "outputId": "bd1a318c-3ff9-4f8d-c9a7-3310a1cbb95b"
      },
      "outputs": [
        {
          "output_type": "stream",
          "name": "stdout",
          "text": [
            "\n",
            "==== NO 1 ====\n",
            "nama : Fathiyah Az-Zahra Karim \n",
            "nim : 0110124078\n",
            "rombel : si 06\n",
            "nama asdos : Muhamad Al Fikri\n"
          ]
        }
      ],
      "source": [
        "print('\\n==== NO 1 ====')\n",
        "\n",
        "print(\"nama : Fathiyah Az-Zahra Karim \")\n",
        "print(\"nim : 0110124078\")\n",
        "print(\"rombel : si 06\")\n",
        "print(\"nama asdos : Muhamad Al Fikri\")"
      ]
    }
  ]
}