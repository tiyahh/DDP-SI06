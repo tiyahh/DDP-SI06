{
  "nbformat": 4,
  "nbformat_minor": 0,
  "metadata": {
    "colab": {
      "provenance": [],
      "authorship_tag": "ABX9TyOYl6HF3AwY1wmq2UBi78jX",
      "include_colab_link": true
    },
    "kernelspec": {
      "name": "python3",
      "display_name": "Python 3"
    },
    "language_info": {
      "name": "python"
    }
  },
  "cells": [
    {
      "cell_type": "markdown",
      "metadata": {
        "id": "view-in-github",
        "colab_type": "text"
      },
      "source": [
        "<a href=\"https://colab.research.google.com/github/tiyahh/DDP-SI06/blob/main/DDP3.ipynb\" target=\"_parent\"><img src=\"https://colab.research.google.com/assets/colab-badge.svg\" alt=\"Open In Colab\"/></a>"
      ]
    },
    {
      "cell_type": "code",
      "execution_count": 1,
      "metadata": {
        "colab": {
          "base_uri": "https://localhost:8080/"
        },
        "id": "Jpfn5zBOuVXQ",
        "outputId": "a1dda20e-a9dd-4b47-e2f0-29d997b1fd7b"
      },
      "outputs": [
        {
          "output_type": "stream",
          "name": "stdout",
          "text": [
            "\n",
            " ==== NO 1 ====\n",
            "Nama: aghisna fillah nur kholifah\n",
            "Nim: 0110124062\n",
            "Rombel: Si06\n",
            "No_telpon: 085891980804\n",
            "Alamat: Depok, margonda jl.stm mandiri\n",
            "\n",
            " ==== NO 2 ====\n",
            "Nama: naesila\n",
            "Nim: 0110124113\n",
            "Rombel: Si06\n",
            "No_telpon: 081514124732\n",
            "Alamat: Kp.pabuaran desa urug kec.sukmajaya\n",
            "\n",
            " ==== NO 3 ====\n",
            "berat badan ideal adalah : 54.0\n",
            "\n",
            " ===== NO 4 =====\n",
            "masukan suhu dalam celcius: 5\n",
            "5 derajat celcius sama dengan 41.0 derajat Fahrenheit.\n"
          ]
        }
      ],
      "source": [
        "print(\"\\n ==== NO 1 ====\")\n",
        "\n",
        "Nama= \"Fathiyah Az-Zahra Karim \"\n",
        "Nim= \"0110124078\"\n",
        "Rombel= \"Si06\"\n",
        "No_telpon= \"085719902430\"\n",
        "Alamat= \"\"\"Depok\"\"\"\n",
        "\n",
        "print (\"Nama:\", Nama)\n",
        "print (\"Nim:\", Nim)\n",
        "print (\"Rombel:\", Rombel)\n",
        "print (\"No_telpon:\", No_telpon)\n",
        "print (\"Alamat:\", Alamat)\n",
        "\n",
        "print(\"\\n ==== NO 2 ====\")\n",
        "\n",
        "Nama= \"aghisnafillah\"\n",
        "Nim= \"0110124062\"\n",
        "Rombel= \"Si06\"\n",
        "No_telpon= \"085891980804\"\n",
        "Alamat= \"\"\"Depok, margonda\"\"\"\n",
        "\n",
        "print (\"Nama:\", Nama)\n",
        "print (\"Nim:\", Nim)\n",
        "print (\"Rombel:\", Rombel)\n",
        "print (\"No_telpon:\", No_telpon)\n",
        "print (\"Alamat:\", Alamat)\n",
        "\n",
        "print(\"\\n ==== NO 3 ====\")\n",
        "\n",
        "#rumus = (tinggi badan - 100) - (tinggi badan - 100) * 0.1\n",
        "TB = int(input(\"masukan tinggi badan:\"))\n",
        "bb_ideal = (TB - 100) - (TB - 100) * 0.1\n",
        "\n",
        "print(\"berat badan ideal adalah :\", bb_ideal)\n",
        "print(\"\\n ===== NO 4 =====\")\n",
        "\n",
        "celcius = int(input(\"masukan suhu dalam celcius: \"))\n",
        "fahrenheit = (celcius * 9/5) + 32\n",
        "\n",
        "print (celcius, \"derajat celcius sama dengan\", fahrenheit, \"derajat Fahrenheit.\")"
      ]
    }
  ]
}